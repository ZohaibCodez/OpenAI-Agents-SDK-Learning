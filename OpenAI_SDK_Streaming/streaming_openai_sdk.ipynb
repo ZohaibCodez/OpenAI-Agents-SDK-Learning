{
  "cells": [
    {
      "cell_type": "markdown",
      "metadata": {
        "id": "view-in-github",
        "colab_type": "text"
      },
      "source": [
        "<a href=\"https://colab.research.google.com/github/ZohaibCodez/OpenAI-Agents-SDK-Learning/blob/main/OpenAI_SDK_Streaming/streaming_openai_sdk.ipynb\" target=\"_parent\"><img src=\"https://colab.research.google.com/assets/colab-badge.svg\" alt=\"Open In Colab\"/></a>"
      ]
    },
    {
      "cell_type": "code",
      "execution_count": 17,
      "metadata": {
        "vscode": {
          "languageId": "plaintext"
        },
        "id": "9hy1lJ44RNRe"
      },
      "outputs": [],
      "source": [
        "!pip install -Uq openai-agents"
      ]
    },
    {
      "cell_type": "code",
      "source": [
        "import nest_asyncio\n",
        "nest_asyncio.apply()"
      ],
      "metadata": {
        "id": "LKxrLe6zXf1-"
      },
      "execution_count": 23,
      "outputs": []
    },
    {
      "cell_type": "code",
      "source": [
        "from google.colab import userdata\n",
        "BASE_URL:str = \"https://openrouter.ai/api/v1\"\n",
        "OPENROUTER_API_KEY:str =userdata.get(\"OPENROUTER_API_KEY\")\n",
        "MODEL:str = \"google/gemini-2.0-flash-001\""
      ],
      "metadata": {
        "id": "XZrrL1QOSDR9"
      },
      "execution_count": 40,
      "outputs": []
    },
    {
      "cell_type": "code",
      "source": [
        "from openai import AsyncOpenAI\n",
        "from agents import Agent,Runner,OpenAIChatCompletionsModel,set_tracing_disabled\n",
        "\n",
        "set_tracing_disabled(True)\n",
        "\n",
        "external_client = AsyncOpenAI(\n",
        "    base_url=BASE_URL,\n",
        "    api_key=OPENROUTER_API_KEY\n",
        ")\n",
        "\n",
        "model = OpenAIChatCompletionsModel(\n",
        "    openai_client=external_client,\n",
        "    model=MODEL\n",
        ")\n",
        "\n",
        "agent = Agent(\n",
        "    name=\"Assistant\",\n",
        "    instructions=\"You are a helpful assistant.\",\n",
        "    model = model\n",
        ")"
      ],
      "metadata": {
        "id": "LRzYeVsVRmYo"
      },
      "execution_count": 41,
      "outputs": []
    },
    {
      "cell_type": "code",
      "source": [
        "response1 = Runner.run_sync(starting_agent=agent,input=\"What is machine learning\")\n",
        "display(response1.final_output)"
      ],
      "metadata": {
        "colab": {
          "base_uri": "https://localhost:8080/",
          "height": 105
        },
        "id": "s-FRLWtXTToF",
        "outputId": "fee985e1-ca32-4d61-99df-121d6c256200"
      },
      "execution_count": 42,
      "outputs": [
        {
          "output_type": "display_data",
          "data": {
            "text/plain": [
              "'Okay, let\\'s break down machine learning.\\n\\n**In a nutshell, machine learning (ML) is a subfield of artificial intelligence (AI) that focuses on enabling computer systems to learn from data without being explicitly programmed.**  Instead of writing specific rules for every possible scenario, you feed the machine learning algorithm a large amount of data, and it learns to identify patterns, make predictions, and improve its performance over time.\\n\\nHere\\'s a more detailed explanation:\\n\\n**Key Concepts:**\\n\\n*   **Learning from Data:**  This is the core idea. Machine learning algorithms are designed to extract knowledge and insights from data.  The more data they have, generally, the better they can learn.\\n*   **Algorithms:** These are the specific mathematical and statistical techniques used to analyze the data and build a model. There are many different types of machine learning algorithms, each suited for different types of problems.\\n*   **Models:** A model is the output of a machine learning algorithm. It\\'s a representation of the patterns and relationships learned from the data. This model can then be used to make predictions or decisions on new, unseen data.\\n*   **Predictions/Decisions:** The ultimate goal of machine learning is often to make predictions about future events or to make informed decisions based on the data.\\n*   **Improvement Over Time:** Machine learning models are designed to get better as they are exposed to more data.  This is often done through a process of feedback and refinement.\\n\\n**How it Works (Simplified):**\\n\\n1.  **Data Collection:** Gather a relevant dataset for the problem you\\'re trying to solve. This data needs to be well-formatted and representative of the real-world scenarios the model will encounter.\\n2.  **Data Preparation:** Clean and preprocess the data. This might involve handling missing values, removing outliers, and transforming data into a suitable format for the algorithm.\\n3.  **Model Selection:** Choose an appropriate machine learning algorithm based on the type of problem (e.g., classification, regression, clustering) and the characteristics of the data.\\n4.  **Training:** Feed the prepared data into the chosen algorithm. The algorithm learns the patterns and relationships in the data and builds a model.  The data used during training is called \"training data.\"\\n5.  **Evaluation:** Test the model\\'s performance on a separate dataset called the \"validation data\" or \"test data\" to see how well it generalizes to new, unseen data.  This helps to identify potential problems like overfitting (where the model performs well on the training data but poorly on new data).\\n6.  **Parameter Tuning:** Adjust the parameters of the algorithm to optimize performance. This is often an iterative process.\\n7.  **Deployment:** Once the model is trained and evaluated to your satisfaction, it can be deployed to make predictions or decisions in a real-world setting.\\n8.  **Monitoring and Retraining:** Continuously monitor the model\\'s performance and retrain it with new data as needed to ensure its accuracy and relevance over time. The world changes, and so should your model.\\n\\n**Types of Machine Learning:**\\n\\nThere are several main types of machine learning, categorized by the type of learning signal or feedback available to the system:\\n\\n*   **Supervised Learning:** The algorithm learns from labeled data, where the correct output (label) is provided for each input.  Examples:\\n    *   Image classification (is this a cat or a dog?)\\n    *   Spam detection (is this email spam or not spam?)\\n    *   Regression (predicting house prices based on features like size and location).\\n*   **Unsupervised Learning:** The algorithm learns from unlabeled data, where no correct outputs are provided. The algorithm must discover patterns and structures in the data on its own. Examples:\\n    *   Clustering (grouping customers into segments based on their purchasing behavior)\\n    *   Dimensionality reduction (reducing the number of variables in a dataset while preserving important information)\\n    *   Anomaly detection (identifying unusual data points that deviate from the norm).\\n*   **Reinforcement Learning:** The algorithm learns through trial and error by interacting with an environment. It receives rewards or penalties for its actions and learns to maximize its cumulative reward over time.  Examples:\\n    *   Training a robot to walk\\n    *   Developing game-playing AI (like AlphaGo)\\n    *   Optimizing advertising campaigns.\\n*   **Semi-Supervised Learning:** A combination of supervised and unsupervised learning, where the algorithm learns from a dataset that contains both labeled and unlabeled data.\\n*   **Self-Supervised Learning:** A type of unsupervised learning where the algorithm generates its own labels from the data.\\n\\n**Examples of Machine Learning in Action:**\\n\\n*   **Netflix/Spotify Recommendations:** Suggesting movies or songs you might like based on your viewing/listening history.\\n*   **Spam Filters:** Automatically filtering out unwanted emails.\\n*   **Fraud Detection:** Identifying fraudulent transactions in real-time.\\n*   **Self-Driving Cars:** Enabling cars to navigate and drive autonomously.\\n*   **Medical Diagnosis:** Assisting doctors in diagnosing diseases based on medical images and patient data.\\n*   **Chatbots:** Providing automated customer service and support.\\n\\n**Benefits of Machine Learning:**\\n\\n*   **Automation:** Automating tasks that would otherwise require manual human effort.\\n*   **Improved Accuracy:** Often, machine learning models can achieve higher accuracy than traditional rule-based systems.\\n*   **Scalability:** Machine learning models can handle large amounts of data and scale to meet growing demands.\\n*   **Personalization:** Machine learning enables personalized experiences, such as customized recommendations and targeted advertising.\\n*   **Discovery of Insights:** Machine learning can uncover hidden patterns and relationships in data that humans might miss.\\n\\n**Challenges of Machine Learning:**\\n\\n*   **Data Requirements:** Machine learning algorithms typically require large amounts of data to train effectively.\\n*   **Data Quality:** The quality of the data is crucial.  Garbage in, garbage out!\\n*   **Computational Resources:** Training complex machine learning models can be computationally expensive.\\n*   **Explainability:** Some machine learning models (especially deep learning models) can be difficult to interpret, making it hard to understand why they make certain predictions. This is often referred to as the \"black box\" problem.\\n*   **Bias:** Machine learning models can inherit biases present in the data, leading to unfair or discriminatory outcomes.\\n*   **Overfitting/Underfitting:** Finding the right balance between model complexity and generalization ability can be challenging.\\n\\nI hope this explanation is helpful! Let me know if you have any other questions.\\n'"
            ],
            "application/vnd.google.colaboratory.intrinsic+json": {
              "type": "string"
            }
          },
          "metadata": {}
        }
      ]
    },
    {
      "cell_type": "code",
      "source": [
        "from openai.types.responses import ResponseTextDeltaEvent\n",
        "import asyncio\n",
        "from IPython.display import display, Markdown\n",
        "\n",
        "result = Runner.run_streamed(starting_agent=agent,input=\"What is machine learning\")\n",
        "async def main():\n",
        "  async for event in result.stream_events():\n",
        "    if(event.type == \"raw_response_event\" and isinstance(event.data,ResponseTextDeltaEvent)):\n",
        "      display(Markdown(event.data.delta))\n",
        "\n",
        "asyncio.run(main())"
      ],
      "metadata": {
        "colab": {
          "base_uri": "https://localhost:8080/",
          "height": 1000
        },
        "id": "yzMke0VLXhGq",
        "outputId": "3733ab5d-e629-408e-e7ea-e94b2857a938"
      },
      "execution_count": 51,
      "outputs": [
        {
          "output_type": "display_data",
          "data": {
            "text/plain": [
              "<IPython.core.display.Markdown object>"
            ],
            "text/markdown": "Okay"
          },
          "metadata": {}
        },
        {
          "output_type": "display_data",
          "data": {
            "text/plain": [
              "<IPython.core.display.Markdown object>"
            ],
            "text/markdown": ", let's break down machine learning.\n\n**In a nutshell, machine learning"
          },
          "metadata": {}
        },
        {
          "output_type": "display_data",
          "data": {
            "text/plain": [
              "<IPython.core.display.Markdown object>"
            ],
            "text/markdown": " is a type of artificial intelligence (AI) that allows computer systems to learn from"
          },
          "metadata": {}
        },
        {
          "output_type": "display_data",
          "data": {
            "text/plain": [
              "<IPython.core.display.Markdown object>"
            ],
            "text/markdown": " data without being explicitly programmed.**  Instead of writing specific code to handle every possible situation, you feed the system a lot of data, and it learns to identify patterns, make"
          },
          "metadata": {}
        },
        {
          "output_type": "display_data",
          "data": {
            "text/plain": [
              "<IPython.core.display.Markdown object>"
            ],
            "text/markdown": " predictions, and improve its performance over time.\n\nHere's a more detailed explanation:\n\n**Key Concepts:**\n\n*   **Learning from Data:** This"
          },
          "metadata": {}
        },
        {
          "output_type": "display_data",
          "data": {
            "text/plain": [
              "<IPython.core.display.Markdown object>"
            ],
            "text/markdown": " is the core idea. Machine learning algorithms are designed to extract knowledge and insights from data.\n*   **Algorithms:** These are the specific sets of instructions that the computer follows to learn. There are many different types of algorithms, each suited for different"
          },
          "metadata": {}
        },
        {
          "output_type": "display_data",
          "data": {
            "text/plain": [
              "<IPython.core.display.Markdown object>"
            ],
            "text/markdown": " tasks.\n*   **Patterns:** Machine learning excels at finding hidden relationships, trends, and anomalies in data that humans might miss.\n*   **Predictions:** Once a system has learned from data, it can use that knowledge to predict"
          },
          "metadata": {}
        },
        {
          "output_type": "display_data",
          "data": {
            "text/plain": [
              "<IPython.core.display.Markdown object>"
            ],
            "text/markdown": " future outcomes or classify new data points.\n*   **Improvement over Time:** The \"learning\" part means that the system's accuracy and performance get better as it's exposed to more data. It refines its understanding based on feedback.\n\n**How it Works (Simplified):**\n\n1.  **Data"
          },
          "metadata": {}
        },
        {
          "output_type": "display_data",
          "data": {
            "text/plain": [
              "<IPython.core.display.Markdown object>"
            ],
            "text/markdown": " Collection:** You gather a relevant dataset. The quantity and quality of the data are crucial.\n2.  **Data Preparation:** The data is cleaned, preprocessed, and formatted to be suitable for the chosen algorithm. This might involve handling missing values, converting data types, and scaling features.\n3.  **"
          },
          "metadata": {}
        },
        {
          "output_type": "display_data",
          "data": {
            "text/plain": [
              "<IPython.core.display.Markdown object>"
            ],
            "text/markdown": "Model Selection:** You choose the appropriate machine learning algorithm for the task (e.g., classification, regression, clustering).\n4.  **Training:** The algorithm is \"trained\" on the prepared data. This involves feeding the data into the algorithm, which adjusts its internal parameters to minimize errors and improve its ability to make"
          },
          "metadata": {}
        },
        {
          "output_type": "display_data",
          "data": {
            "text/plain": [
              "<IPython.core.display.Markdown object>"
            ],
            "text/markdown": " accurate predictions.\n5.  **Evaluation:** After training, the model is tested on a separate dataset (the \"test set\") to assess its performance and generalization ability (how well it performs on unseen data).\n6.  **Deployment:** If the model meets the required performance criteria, it can be deployed to make predictions"
          },
          "metadata": {}
        },
        {
          "output_type": "display_data",
          "data": {
            "text/plain": [
              "<IPython.core.display.Markdown object>"
            ],
            "text/markdown": " on new, real-world data.\n7.  **Monitoring and Retraining:** The model's performance is continuously monitored, and it may need to be retrained periodically with new data to maintain its accuracy and adapt to changing patterns.\n\n**Types of Machine Learning:**\n\nThere are several main types of machine learning,"
          },
          "metadata": {}
        },
        {
          "output_type": "display_data",
          "data": {
            "text/plain": [
              "<IPython.core.display.Markdown object>"
            ],
            "text/markdown": " categorized by the learning style and the type of problem they solve:\n\n*   **Supervised Learning:**\n    *   The algorithm learns from labeled data, where the correct output is provided for each input (e.g., predicting house prices based on features like size and location, or classifying emails as spam or not"
          },
          "metadata": {}
        },
        {
          "output_type": "display_data",
          "data": {
            "text/plain": [
              "<IPython.core.display.Markdown object>"
            ],
            "text/markdown": " spam).\n    *   Common algorithms: Linear Regression, Logistic Regression, Support Vector Machines (SVMs), Decision Trees, Random Forests, Neural Networks.\n*   **Unsupervised Learning:**\n    *   The algorithm learns from unlabeled data, where there are no correct outputs provided. The goal is to discover patterns,"
          },
          "metadata": {}
        },
        {
          "output_type": "display_data",
          "data": {
            "text/plain": [
              "<IPython.core.display.Markdown object>"
            ],
            "text/markdown": " structures, and relationships in the data (e.g., clustering customers into groups based on their purchasing behavior, or reducing the dimensionality of data for easier visualization).\n    *   Common algorithms: K-Means Clustering, Hierarchical Clustering, Principal Component Analysis (PCA), Association Rule Mining.\n*   **Reinforcement Learning:**"
          },
          "metadata": {}
        },
        {
          "output_type": "display_data",
          "data": {
            "text/plain": [
              "<IPython.core.display.Markdown object>"
            ],
            "text/markdown": "\n    *   The algorithm learns through trial and error by interacting with an environment. It receives rewards or penalties for its actions and learns to maximize its cumulative reward over time (e.g., training a robot to navigate a maze, or developing a game-playing AI).\n    *   Common algorithms: Q-Learning"
          },
          "metadata": {}
        },
        {
          "output_type": "display_data",
          "data": {
            "text/plain": [
              "<IPython.core.display.Markdown object>"
            ],
            "text/markdown": ", Deep Q-Networks (DQNs), Policy Gradient Methods.\n*   **Semi-Supervised Learning:**\n    *   A combination of supervised and unsupervised learning, where the algorithm learns from a dataset that contains both labeled and unlabeled data.\n*   **Self-Supervised Learning:**\n    *   The"
          },
          "metadata": {}
        },
        {
          "output_type": "display_data",
          "data": {
            "text/plain": [
              "<IPython.core.display.Markdown object>"
            ],
            "text/markdown": " algorithm learns from unlabeled data where the labels are automatically generated from the data itself: the algorithm learns to predict one part of the data from other part of the data (learning how pixels relate in an image from lots of unlabeled images.)\n\n**Examples of Machine Learning in Action:**\n\n*   **Spam filtering:** Identifying"
          },
          "metadata": {}
        },
        {
          "output_type": "display_data",
          "data": {
            "text/plain": [
              "<IPython.core.display.Markdown object>"
            ],
            "text/markdown": " spam emails based on patterns in the email content and sender information.\n*   **Recommendation systems:** Suggesting products, movies, or music based on user preferences and past behavior (e.g., Netflix, Amazon).\n*   **Medical diagnosis:** Assisting doctors in diagnosing diseases based on medical images and patient data"
          },
          "metadata": {}
        },
        {
          "output_type": "display_data",
          "data": {
            "text/plain": [
              "<IPython.core.display.Markdown object>"
            ],
            "text/markdown": ".\n*   **Fraud detection:** Identifying fraudulent transactions in real-time.\n*   **Self-driving cars:** Enabling vehicles to perceive their surroundings and navigate without human intervention.\n*   **Natural language processing:** Understanding and generating human language (e.g., chatbots, translation services).\n*   **Image recognition:**"
          },
          "metadata": {}
        },
        {
          "output_type": "display_data",
          "data": {
            "text/plain": [
              "<IPython.core.display.Markdown object>"
            ],
            "text/markdown": " Identifying objects and people in images (e.g., facial recognition, object detection).\n\n**Benefits of Machine Learning:**\n\n*   **Automation:** Automates tasks that would otherwise require human intervention.\n*   **Improved accuracy:** Can often achieve higher accuracy than traditional programming methods.\n*   **Scalability:** Can handle"
          },
          "metadata": {}
        },
        {
          "output_type": "display_data",
          "data": {
            "text/plain": [
              "<IPython.core.display.Markdown object>"
            ],
            "text/markdown": " large amounts of data.\n*   **Adaptability:** Can adapt to changing data patterns.\n*   **Insights:** Can uncover hidden insights and patterns in data.\n\n**Challenges of Machine Learning:**\n\n*   **Data requirements:** Requires large amounts of high-quality data.\n*   **Complexity:** Can be complex"
          },
          "metadata": {}
        },
        {
          "output_type": "display_data",
          "data": {
            "text/plain": [
              "<IPython.core.display.Markdown object>"
            ],
            "text/markdown": " to design, implement, and debug.\n*   **Overfitting:** The model may learn the training data too well and not generalize well to new data.\n*   **Bias:** The model may inherit biases from the training data.\n*   **Explainability:** Some machine learning models (e.g.,"
          },
          "metadata": {}
        },
        {
          "output_type": "display_data",
          "data": {
            "text/plain": [
              "<IPython.core.display.Markdown object>"
            ],
            "text/markdown": " deep neural networks) can be difficult to interpret.\n*   **Computational resources:** Training complex models can require significant computational resources.\n\nI hope this gives you a good understanding of what machine learning is!  Let me know if you have any more questions.\n"
          },
          "metadata": {}
        }
      ]
    }
  ],
  "metadata": {
    "language_info": {
      "name": "python"
    },
    "colab": {
      "provenance": [],
      "include_colab_link": true
    },
    "kernelspec": {
      "name": "python3",
      "display_name": "Python 3"
    }
  },
  "nbformat": 4,
  "nbformat_minor": 0
}